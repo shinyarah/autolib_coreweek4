{
  "nbformat": 4,
  "nbformat_minor": 0,
  "metadata": {
    "colab": {
      "name": "core_week4.ipynb",
      "provenance": [],
      "collapsed_sections": [],
      "authorship_tag": "ABX9TyP36C6Zn9+/MuPVLugpKsr5",
      "include_colab_link": true
    },
    "kernelspec": {
      "name": "python3",
      "display_name": "Python 3"
    },
    "language_info": {
      "name": "python"
    }
  },
  "cells": [
    {
      "cell_type": "markdown",
      "metadata": {
        "id": "view-in-github",
        "colab_type": "text"
      },
      "source": [
        "<a href=\"https://colab.research.google.com/github/shinyarah/autolib_coreweek4/blob/main/core_week4.ipynb\" target=\"_parent\"><img src=\"https://colab.research.google.com/assets/colab-badge.svg\" alt=\"Open In Colab\"/></a>"
      ]
    },
    {
      "cell_type": "code",
      "metadata": {
        "id": "GEsLtW4WLBTI"
      },
      "source": [
        ""
      ],
      "execution_count": null,
      "outputs": []
    },
    {
      "cell_type": "markdown",
      "metadata": {
        "id": "Kfi85AKrL-qa"
      },
      "source": [
        "autolib is an electric sharing company. there are bluecats, utilib and itilib_14 vehicles in 860 stations and 4,400 parking spaces. users can pick or drop of the available 3000 cars.\n",
        "the Bollore gropu wishes to expand the european market. this brings up the need to verify the measures and conditions put in place in paris for even distribution of all the cars, stations and parking spots are effecive before moving on to other regions.\n",
        "research and feedback on the following will allow the group to make informed choices;\n",
        "\n",
        "\n",
        "*   on any given weekday, the aveage number of vehicles taken is more than the average number of vehicles returned\n",
        "\n",
        "*   on any weekday, the number of bluecars taken is more than the total number of both utilib and utilib/-14 ars taken\n",
        "\n",
        "*   the number of cars taken from postal code 75015 is eqyal to the number of cars taken from 75017\n",
        "\n",
        "\n",
        "\n"
      ]
    },
    {
      "cell_type": "markdown",
      "metadata": {
        "id": "_Z3TztpvPrJB"
      },
      "source": [
        "The provided dataset is a daily aggregation, by date and postal code, of the number of events on the Autolib network (car-sharing and recharging).\n"
      ]
    },
    {
      "cell_type": "markdown",
      "metadata": {
        "id": "3RSo4a04ToPn"
      },
      "source": [
        "##importing our libraries\n",
        "##data description"
      ]
    },
    {
      "cell_type": "code",
      "metadata": {
        "colab": {
          "base_uri": "https://localhost:8080/",
          "height": 117
        },
        "id": "nzFqrutCPz9f",
        "outputId": "b8049c65-fdc9-45a5-9531-781cfb6b5bef"
      },
      "source": [
        "# Importing our pandas library \n",
        "import pandas as pd\n",
        "import numpy as np\n",
        "import seaborn as sns\n",
        "import matplotlib.pyplot as plt\n",
        "from scipy import stats\n",
        "\n",
        "\n",
        "# then storing the url location of our dataset to the variable url\n",
        "url = 'http://bit.ly/DSCoreAutolibDataset'\n",
        "\n",
        "# We will read the dataset from above url and store the dataframe in the variable df\n",
        "df = pd.read_csv(url)\n",
        "df.head(1)"
      ],
      "execution_count": 1,
      "outputs": [
        {
          "output_type": "execute_result",
          "data": {
            "text/html": [
              "<div>\n",
              "<style scoped>\n",
              "    .dataframe tbody tr th:only-of-type {\n",
              "        vertical-align: middle;\n",
              "    }\n",
              "\n",
              "    .dataframe tbody tr th {\n",
              "        vertical-align: top;\n",
              "    }\n",
              "\n",
              "    .dataframe thead th {\n",
              "        text-align: right;\n",
              "    }\n",
              "</style>\n",
              "<table border=\"1\" class=\"dataframe\">\n",
              "  <thead>\n",
              "    <tr style=\"text-align: right;\">\n",
              "      <th></th>\n",
              "      <th>Postal code</th>\n",
              "      <th>date</th>\n",
              "      <th>n_daily_data_points</th>\n",
              "      <th>dayOfWeek</th>\n",
              "      <th>day_type</th>\n",
              "      <th>BlueCars_taken_sum</th>\n",
              "      <th>BlueCars_returned_sum</th>\n",
              "      <th>Utilib_taken_sum</th>\n",
              "      <th>Utilib_returned_sum</th>\n",
              "      <th>Utilib_14_taken_sum</th>\n",
              "      <th>Utilib_14_returned_sum</th>\n",
              "      <th>Slots_freed_sum</th>\n",
              "      <th>Slots_taken_sum</th>\n",
              "    </tr>\n",
              "  </thead>\n",
              "  <tbody>\n",
              "    <tr>\n",
              "      <th>0</th>\n",
              "      <td>75001</td>\n",
              "      <td>1/1/2018</td>\n",
              "      <td>1440</td>\n",
              "      <td>0</td>\n",
              "      <td>weekday</td>\n",
              "      <td>110</td>\n",
              "      <td>103</td>\n",
              "      <td>3</td>\n",
              "      <td>2</td>\n",
              "      <td>10</td>\n",
              "      <td>9</td>\n",
              "      <td>22</td>\n",
              "      <td>20</td>\n",
              "    </tr>\n",
              "  </tbody>\n",
              "</table>\n",
              "</div>"
            ],
            "text/plain": [
              "   Postal code      date  ...  Slots_freed_sum  Slots_taken_sum\n",
              "0        75001  1/1/2018  ...               22               20\n",
              "\n",
              "[1 rows x 13 columns]"
            ]
          },
          "metadata": {
            "tags": []
          },
          "execution_count": 1
        }
      ]
    },
    {
      "cell_type": "code",
      "metadata": {
        "colab": {
          "base_uri": "https://localhost:8080/",
          "height": 496
        },
        "id": "fNsgZaBOR7Ph",
        "outputId": "0ec95044-4a0b-4f8b-82d2-0c727a34add0"
      },
      "source": [
        "df = pd.read_csv(url)\n",
        "print(\"The data set has {}rows and {}columns\".format(df.shape[0], df.shape[1]))\n",
        "display(df.describe())\n",
        "display(df.head(2))\n",
        "display(df.dtypes.value_counts())"
      ],
      "execution_count": 2,
      "outputs": [
        {
          "output_type": "stream",
          "text": [
            "The data set has 16085rows and 13columns\n"
          ],
          "name": "stdout"
        },
        {
          "output_type": "display_data",
          "data": {
            "text/html": [
              "<div>\n",
              "<style scoped>\n",
              "    .dataframe tbody tr th:only-of-type {\n",
              "        vertical-align: middle;\n",
              "    }\n",
              "\n",
              "    .dataframe tbody tr th {\n",
              "        vertical-align: top;\n",
              "    }\n",
              "\n",
              "    .dataframe thead th {\n",
              "        text-align: right;\n",
              "    }\n",
              "</style>\n",
              "<table border=\"1\" class=\"dataframe\">\n",
              "  <thead>\n",
              "    <tr style=\"text-align: right;\">\n",
              "      <th></th>\n",
              "      <th>Postal code</th>\n",
              "      <th>n_daily_data_points</th>\n",
              "      <th>dayOfWeek</th>\n",
              "      <th>BlueCars_taken_sum</th>\n",
              "      <th>BlueCars_returned_sum</th>\n",
              "      <th>Utilib_taken_sum</th>\n",
              "      <th>Utilib_returned_sum</th>\n",
              "      <th>Utilib_14_taken_sum</th>\n",
              "      <th>Utilib_14_returned_sum</th>\n",
              "      <th>Slots_freed_sum</th>\n",
              "      <th>Slots_taken_sum</th>\n",
              "    </tr>\n",
              "  </thead>\n",
              "  <tbody>\n",
              "    <tr>\n",
              "      <th>count</th>\n",
              "      <td>16085.000000</td>\n",
              "      <td>16085.000000</td>\n",
              "      <td>16085.000000</td>\n",
              "      <td>16085.000000</td>\n",
              "      <td>16085.000000</td>\n",
              "      <td>16085.000000</td>\n",
              "      <td>16085.000000</td>\n",
              "      <td>16085.000000</td>\n",
              "      <td>16085.000000</td>\n",
              "      <td>16085.000000</td>\n",
              "      <td>16085.000000</td>\n",
              "    </tr>\n",
              "    <tr>\n",
              "      <th>mean</th>\n",
              "      <td>88791.293876</td>\n",
              "      <td>1431.330619</td>\n",
              "      <td>2.969599</td>\n",
              "      <td>125.926951</td>\n",
              "      <td>125.912714</td>\n",
              "      <td>3.698290</td>\n",
              "      <td>3.699099</td>\n",
              "      <td>8.600560</td>\n",
              "      <td>8.599192</td>\n",
              "      <td>22.629033</td>\n",
              "      <td>22.629282</td>\n",
              "    </tr>\n",
              "    <tr>\n",
              "      <th>std</th>\n",
              "      <td>7647.342000</td>\n",
              "      <td>33.212050</td>\n",
              "      <td>2.008378</td>\n",
              "      <td>185.426579</td>\n",
              "      <td>185.501535</td>\n",
              "      <td>5.815058</td>\n",
              "      <td>5.824634</td>\n",
              "      <td>12.870098</td>\n",
              "      <td>12.868993</td>\n",
              "      <td>52.120263</td>\n",
              "      <td>52.146030</td>\n",
              "    </tr>\n",
              "    <tr>\n",
              "      <th>min</th>\n",
              "      <td>75001.000000</td>\n",
              "      <td>1174.000000</td>\n",
              "      <td>0.000000</td>\n",
              "      <td>0.000000</td>\n",
              "      <td>0.000000</td>\n",
              "      <td>0.000000</td>\n",
              "      <td>0.000000</td>\n",
              "      <td>0.000000</td>\n",
              "      <td>0.000000</td>\n",
              "      <td>0.000000</td>\n",
              "      <td>0.000000</td>\n",
              "    </tr>\n",
              "    <tr>\n",
              "      <th>25%</th>\n",
              "      <td>91330.000000</td>\n",
              "      <td>1439.000000</td>\n",
              "      <td>1.000000</td>\n",
              "      <td>20.000000</td>\n",
              "      <td>20.000000</td>\n",
              "      <td>0.000000</td>\n",
              "      <td>0.000000</td>\n",
              "      <td>1.000000</td>\n",
              "      <td>1.000000</td>\n",
              "      <td>0.000000</td>\n",
              "      <td>0.000000</td>\n",
              "    </tr>\n",
              "    <tr>\n",
              "      <th>50%</th>\n",
              "      <td>92340.000000</td>\n",
              "      <td>1440.000000</td>\n",
              "      <td>3.000000</td>\n",
              "      <td>46.000000</td>\n",
              "      <td>46.000000</td>\n",
              "      <td>1.000000</td>\n",
              "      <td>1.000000</td>\n",
              "      <td>3.000000</td>\n",
              "      <td>3.000000</td>\n",
              "      <td>0.000000</td>\n",
              "      <td>0.000000</td>\n",
              "    </tr>\n",
              "    <tr>\n",
              "      <th>75%</th>\n",
              "      <td>93400.000000</td>\n",
              "      <td>1440.000000</td>\n",
              "      <td>5.000000</td>\n",
              "      <td>135.000000</td>\n",
              "      <td>135.000000</td>\n",
              "      <td>4.000000</td>\n",
              "      <td>4.000000</td>\n",
              "      <td>10.000000</td>\n",
              "      <td>10.000000</td>\n",
              "      <td>5.000000</td>\n",
              "      <td>5.000000</td>\n",
              "    </tr>\n",
              "    <tr>\n",
              "      <th>max</th>\n",
              "      <td>95880.000000</td>\n",
              "      <td>1440.000000</td>\n",
              "      <td>6.000000</td>\n",
              "      <td>1352.000000</td>\n",
              "      <td>1332.000000</td>\n",
              "      <td>54.000000</td>\n",
              "      <td>58.000000</td>\n",
              "      <td>100.000000</td>\n",
              "      <td>101.000000</td>\n",
              "      <td>360.000000</td>\n",
              "      <td>359.000000</td>\n",
              "    </tr>\n",
              "  </tbody>\n",
              "</table>\n",
              "</div>"
            ],
            "text/plain": [
              "        Postal code  n_daily_data_points  ...  Slots_freed_sum  Slots_taken_sum\n",
              "count  16085.000000         16085.000000  ...     16085.000000     16085.000000\n",
              "mean   88791.293876          1431.330619  ...        22.629033        22.629282\n",
              "std     7647.342000            33.212050  ...        52.120263        52.146030\n",
              "min    75001.000000          1174.000000  ...         0.000000         0.000000\n",
              "25%    91330.000000          1439.000000  ...         0.000000         0.000000\n",
              "50%    92340.000000          1440.000000  ...         0.000000         0.000000\n",
              "75%    93400.000000          1440.000000  ...         5.000000         5.000000\n",
              "max    95880.000000          1440.000000  ...       360.000000       359.000000\n",
              "\n",
              "[8 rows x 11 columns]"
            ]
          },
          "metadata": {
            "tags": []
          }
        },
        {
          "output_type": "display_data",
          "data": {
            "text/html": [
              "<div>\n",
              "<style scoped>\n",
              "    .dataframe tbody tr th:only-of-type {\n",
              "        vertical-align: middle;\n",
              "    }\n",
              "\n",
              "    .dataframe tbody tr th {\n",
              "        vertical-align: top;\n",
              "    }\n",
              "\n",
              "    .dataframe thead th {\n",
              "        text-align: right;\n",
              "    }\n",
              "</style>\n",
              "<table border=\"1\" class=\"dataframe\">\n",
              "  <thead>\n",
              "    <tr style=\"text-align: right;\">\n",
              "      <th></th>\n",
              "      <th>Postal code</th>\n",
              "      <th>date</th>\n",
              "      <th>n_daily_data_points</th>\n",
              "      <th>dayOfWeek</th>\n",
              "      <th>day_type</th>\n",
              "      <th>BlueCars_taken_sum</th>\n",
              "      <th>BlueCars_returned_sum</th>\n",
              "      <th>Utilib_taken_sum</th>\n",
              "      <th>Utilib_returned_sum</th>\n",
              "      <th>Utilib_14_taken_sum</th>\n",
              "      <th>Utilib_14_returned_sum</th>\n",
              "      <th>Slots_freed_sum</th>\n",
              "      <th>Slots_taken_sum</th>\n",
              "    </tr>\n",
              "  </thead>\n",
              "  <tbody>\n",
              "    <tr>\n",
              "      <th>0</th>\n",
              "      <td>75001</td>\n",
              "      <td>1/1/2018</td>\n",
              "      <td>1440</td>\n",
              "      <td>0</td>\n",
              "      <td>weekday</td>\n",
              "      <td>110</td>\n",
              "      <td>103</td>\n",
              "      <td>3</td>\n",
              "      <td>2</td>\n",
              "      <td>10</td>\n",
              "      <td>9</td>\n",
              "      <td>22</td>\n",
              "      <td>20</td>\n",
              "    </tr>\n",
              "    <tr>\n",
              "      <th>1</th>\n",
              "      <td>75001</td>\n",
              "      <td>1/2/2018</td>\n",
              "      <td>1438</td>\n",
              "      <td>1</td>\n",
              "      <td>weekday</td>\n",
              "      <td>98</td>\n",
              "      <td>94</td>\n",
              "      <td>1</td>\n",
              "      <td>1</td>\n",
              "      <td>8</td>\n",
              "      <td>8</td>\n",
              "      <td>23</td>\n",
              "      <td>22</td>\n",
              "    </tr>\n",
              "  </tbody>\n",
              "</table>\n",
              "</div>"
            ],
            "text/plain": [
              "   Postal code      date  ...  Slots_freed_sum  Slots_taken_sum\n",
              "0        75001  1/1/2018  ...               22               20\n",
              "1        75001  1/2/2018  ...               23               22\n",
              "\n",
              "[2 rows x 13 columns]"
            ]
          },
          "metadata": {
            "tags": []
          }
        },
        {
          "output_type": "display_data",
          "data": {
            "text/plain": [
              "int64     11\n",
              "object     2\n",
              "dtype: int64"
            ]
          },
          "metadata": {
            "tags": []
          }
        }
      ]
    },
    {
      "cell_type": "code",
      "metadata": {
        "colab": {
          "base_uri": "https://localhost:8080/"
        },
        "id": "LuDI4bi6S5oG",
        "outputId": "8fae9bfa-142c-4bf9-82a7-3992397b564b"
      },
      "source": [
        "df.info"
      ],
      "execution_count": 3,
      "outputs": [
        {
          "output_type": "execute_result",
          "data": {
            "text/plain": [
              "<bound method DataFrame.info of        Postal code       date  ...  Slots_freed_sum  Slots_taken_sum\n",
              "0            75001   1/1/2018  ...               22               20\n",
              "1            75001   1/2/2018  ...               23               22\n",
              "2            75001   1/3/2018  ...               27               27\n",
              "3            75001   1/4/2018  ...               25               21\n",
              "4            75001   1/5/2018  ...               18               20\n",
              "...            ...        ...  ...              ...              ...\n",
              "16080        95880  6/15/2018  ...                0                0\n",
              "16081        95880  6/16/2018  ...                0                0\n",
              "16082        95880  6/17/2018  ...                0                0\n",
              "16083        95880  6/18/2018  ...                0                0\n",
              "16084        95880  6/19/2018  ...                0                0\n",
              "\n",
              "[16085 rows x 13 columns]>"
            ]
          },
          "metadata": {
            "tags": []
          },
          "execution_count": 3
        }
      ]
    },
    {
      "cell_type": "markdown",
      "metadata": {
        "id": "9Ivnv3uMT2yI"
      },
      "source": [
        "##data cleaning"
      ]
    },
    {
      "cell_type": "code",
      "metadata": {
        "colab": {
          "base_uri": "https://localhost:8080/",
          "height": 456
        },
        "id": "dhjhq14YSTzm",
        "outputId": "41f71179-fa76-4015-e536-0f933bc69390"
      },
      "source": [
        "df.isnull()"
      ],
      "execution_count": 4,
      "outputs": [
        {
          "output_type": "execute_result",
          "data": {
            "text/html": [
              "<div>\n",
              "<style scoped>\n",
              "    .dataframe tbody tr th:only-of-type {\n",
              "        vertical-align: middle;\n",
              "    }\n",
              "\n",
              "    .dataframe tbody tr th {\n",
              "        vertical-align: top;\n",
              "    }\n",
              "\n",
              "    .dataframe thead th {\n",
              "        text-align: right;\n",
              "    }\n",
              "</style>\n",
              "<table border=\"1\" class=\"dataframe\">\n",
              "  <thead>\n",
              "    <tr style=\"text-align: right;\">\n",
              "      <th></th>\n",
              "      <th>Postal code</th>\n",
              "      <th>date</th>\n",
              "      <th>n_daily_data_points</th>\n",
              "      <th>dayOfWeek</th>\n",
              "      <th>day_type</th>\n",
              "      <th>BlueCars_taken_sum</th>\n",
              "      <th>BlueCars_returned_sum</th>\n",
              "      <th>Utilib_taken_sum</th>\n",
              "      <th>Utilib_returned_sum</th>\n",
              "      <th>Utilib_14_taken_sum</th>\n",
              "      <th>Utilib_14_returned_sum</th>\n",
              "      <th>Slots_freed_sum</th>\n",
              "      <th>Slots_taken_sum</th>\n",
              "    </tr>\n",
              "  </thead>\n",
              "  <tbody>\n",
              "    <tr>\n",
              "      <th>0</th>\n",
              "      <td>False</td>\n",
              "      <td>False</td>\n",
              "      <td>False</td>\n",
              "      <td>False</td>\n",
              "      <td>False</td>\n",
              "      <td>False</td>\n",
              "      <td>False</td>\n",
              "      <td>False</td>\n",
              "      <td>False</td>\n",
              "      <td>False</td>\n",
              "      <td>False</td>\n",
              "      <td>False</td>\n",
              "      <td>False</td>\n",
              "    </tr>\n",
              "    <tr>\n",
              "      <th>1</th>\n",
              "      <td>False</td>\n",
              "      <td>False</td>\n",
              "      <td>False</td>\n",
              "      <td>False</td>\n",
              "      <td>False</td>\n",
              "      <td>False</td>\n",
              "      <td>False</td>\n",
              "      <td>False</td>\n",
              "      <td>False</td>\n",
              "      <td>False</td>\n",
              "      <td>False</td>\n",
              "      <td>False</td>\n",
              "      <td>False</td>\n",
              "    </tr>\n",
              "    <tr>\n",
              "      <th>2</th>\n",
              "      <td>False</td>\n",
              "      <td>False</td>\n",
              "      <td>False</td>\n",
              "      <td>False</td>\n",
              "      <td>False</td>\n",
              "      <td>False</td>\n",
              "      <td>False</td>\n",
              "      <td>False</td>\n",
              "      <td>False</td>\n",
              "      <td>False</td>\n",
              "      <td>False</td>\n",
              "      <td>False</td>\n",
              "      <td>False</td>\n",
              "    </tr>\n",
              "    <tr>\n",
              "      <th>3</th>\n",
              "      <td>False</td>\n",
              "      <td>False</td>\n",
              "      <td>False</td>\n",
              "      <td>False</td>\n",
              "      <td>False</td>\n",
              "      <td>False</td>\n",
              "      <td>False</td>\n",
              "      <td>False</td>\n",
              "      <td>False</td>\n",
              "      <td>False</td>\n",
              "      <td>False</td>\n",
              "      <td>False</td>\n",
              "      <td>False</td>\n",
              "    </tr>\n",
              "    <tr>\n",
              "      <th>4</th>\n",
              "      <td>False</td>\n",
              "      <td>False</td>\n",
              "      <td>False</td>\n",
              "      <td>False</td>\n",
              "      <td>False</td>\n",
              "      <td>False</td>\n",
              "      <td>False</td>\n",
              "      <td>False</td>\n",
              "      <td>False</td>\n",
              "      <td>False</td>\n",
              "      <td>False</td>\n",
              "      <td>False</td>\n",
              "      <td>False</td>\n",
              "    </tr>\n",
              "    <tr>\n",
              "      <th>...</th>\n",
              "      <td>...</td>\n",
              "      <td>...</td>\n",
              "      <td>...</td>\n",
              "      <td>...</td>\n",
              "      <td>...</td>\n",
              "      <td>...</td>\n",
              "      <td>...</td>\n",
              "      <td>...</td>\n",
              "      <td>...</td>\n",
              "      <td>...</td>\n",
              "      <td>...</td>\n",
              "      <td>...</td>\n",
              "      <td>...</td>\n",
              "    </tr>\n",
              "    <tr>\n",
              "      <th>16080</th>\n",
              "      <td>False</td>\n",
              "      <td>False</td>\n",
              "      <td>False</td>\n",
              "      <td>False</td>\n",
              "      <td>False</td>\n",
              "      <td>False</td>\n",
              "      <td>False</td>\n",
              "      <td>False</td>\n",
              "      <td>False</td>\n",
              "      <td>False</td>\n",
              "      <td>False</td>\n",
              "      <td>False</td>\n",
              "      <td>False</td>\n",
              "    </tr>\n",
              "    <tr>\n",
              "      <th>16081</th>\n",
              "      <td>False</td>\n",
              "      <td>False</td>\n",
              "      <td>False</td>\n",
              "      <td>False</td>\n",
              "      <td>False</td>\n",
              "      <td>False</td>\n",
              "      <td>False</td>\n",
              "      <td>False</td>\n",
              "      <td>False</td>\n",
              "      <td>False</td>\n",
              "      <td>False</td>\n",
              "      <td>False</td>\n",
              "      <td>False</td>\n",
              "    </tr>\n",
              "    <tr>\n",
              "      <th>16082</th>\n",
              "      <td>False</td>\n",
              "      <td>False</td>\n",
              "      <td>False</td>\n",
              "      <td>False</td>\n",
              "      <td>False</td>\n",
              "      <td>False</td>\n",
              "      <td>False</td>\n",
              "      <td>False</td>\n",
              "      <td>False</td>\n",
              "      <td>False</td>\n",
              "      <td>False</td>\n",
              "      <td>False</td>\n",
              "      <td>False</td>\n",
              "    </tr>\n",
              "    <tr>\n",
              "      <th>16083</th>\n",
              "      <td>False</td>\n",
              "      <td>False</td>\n",
              "      <td>False</td>\n",
              "      <td>False</td>\n",
              "      <td>False</td>\n",
              "      <td>False</td>\n",
              "      <td>False</td>\n",
              "      <td>False</td>\n",
              "      <td>False</td>\n",
              "      <td>False</td>\n",
              "      <td>False</td>\n",
              "      <td>False</td>\n",
              "      <td>False</td>\n",
              "    </tr>\n",
              "    <tr>\n",
              "      <th>16084</th>\n",
              "      <td>False</td>\n",
              "      <td>False</td>\n",
              "      <td>False</td>\n",
              "      <td>False</td>\n",
              "      <td>False</td>\n",
              "      <td>False</td>\n",
              "      <td>False</td>\n",
              "      <td>False</td>\n",
              "      <td>False</td>\n",
              "      <td>False</td>\n",
              "      <td>False</td>\n",
              "      <td>False</td>\n",
              "      <td>False</td>\n",
              "    </tr>\n",
              "  </tbody>\n",
              "</table>\n",
              "<p>16085 rows × 13 columns</p>\n",
              "</div>"
            ],
            "text/plain": [
              "       Postal code   date  ...  Slots_freed_sum  Slots_taken_sum\n",
              "0            False  False  ...            False            False\n",
              "1            False  False  ...            False            False\n",
              "2            False  False  ...            False            False\n",
              "3            False  False  ...            False            False\n",
              "4            False  False  ...            False            False\n",
              "...            ...    ...  ...              ...              ...\n",
              "16080        False  False  ...            False            False\n",
              "16081        False  False  ...            False            False\n",
              "16082        False  False  ...            False            False\n",
              "16083        False  False  ...            False            False\n",
              "16084        False  False  ...            False            False\n",
              "\n",
              "[16085 rows x 13 columns]"
            ]
          },
          "metadata": {
            "tags": []
          },
          "execution_count": 4
        }
      ]
    },
    {
      "cell_type": "code",
      "metadata": {
        "colab": {
          "base_uri": "https://localhost:8080/",
          "height": 396
        },
        "id": "2XaIXXRYSe0A",
        "outputId": "2a18666a-074d-4215-a077-9532a1d2a6a6"
      },
      "source": [
        "#dropping null values\n",
        "df.dropna(inplace=True)\n",
        "df.head(10)"
      ],
      "execution_count": 5,
      "outputs": [
        {
          "output_type": "execute_result",
          "data": {
            "text/html": [
              "<div>\n",
              "<style scoped>\n",
              "    .dataframe tbody tr th:only-of-type {\n",
              "        vertical-align: middle;\n",
              "    }\n",
              "\n",
              "    .dataframe tbody tr th {\n",
              "        vertical-align: top;\n",
              "    }\n",
              "\n",
              "    .dataframe thead th {\n",
              "        text-align: right;\n",
              "    }\n",
              "</style>\n",
              "<table border=\"1\" class=\"dataframe\">\n",
              "  <thead>\n",
              "    <tr style=\"text-align: right;\">\n",
              "      <th></th>\n",
              "      <th>Postal code</th>\n",
              "      <th>date</th>\n",
              "      <th>n_daily_data_points</th>\n",
              "      <th>dayOfWeek</th>\n",
              "      <th>day_type</th>\n",
              "      <th>BlueCars_taken_sum</th>\n",
              "      <th>BlueCars_returned_sum</th>\n",
              "      <th>Utilib_taken_sum</th>\n",
              "      <th>Utilib_returned_sum</th>\n",
              "      <th>Utilib_14_taken_sum</th>\n",
              "      <th>Utilib_14_returned_sum</th>\n",
              "      <th>Slots_freed_sum</th>\n",
              "      <th>Slots_taken_sum</th>\n",
              "    </tr>\n",
              "  </thead>\n",
              "  <tbody>\n",
              "    <tr>\n",
              "      <th>0</th>\n",
              "      <td>75001</td>\n",
              "      <td>1/1/2018</td>\n",
              "      <td>1440</td>\n",
              "      <td>0</td>\n",
              "      <td>weekday</td>\n",
              "      <td>110</td>\n",
              "      <td>103</td>\n",
              "      <td>3</td>\n",
              "      <td>2</td>\n",
              "      <td>10</td>\n",
              "      <td>9</td>\n",
              "      <td>22</td>\n",
              "      <td>20</td>\n",
              "    </tr>\n",
              "    <tr>\n",
              "      <th>1</th>\n",
              "      <td>75001</td>\n",
              "      <td>1/2/2018</td>\n",
              "      <td>1438</td>\n",
              "      <td>1</td>\n",
              "      <td>weekday</td>\n",
              "      <td>98</td>\n",
              "      <td>94</td>\n",
              "      <td>1</td>\n",
              "      <td>1</td>\n",
              "      <td>8</td>\n",
              "      <td>8</td>\n",
              "      <td>23</td>\n",
              "      <td>22</td>\n",
              "    </tr>\n",
              "    <tr>\n",
              "      <th>2</th>\n",
              "      <td>75001</td>\n",
              "      <td>1/3/2018</td>\n",
              "      <td>1439</td>\n",
              "      <td>2</td>\n",
              "      <td>weekday</td>\n",
              "      <td>138</td>\n",
              "      <td>139</td>\n",
              "      <td>0</td>\n",
              "      <td>0</td>\n",
              "      <td>2</td>\n",
              "      <td>2</td>\n",
              "      <td>27</td>\n",
              "      <td>27</td>\n",
              "    </tr>\n",
              "    <tr>\n",
              "      <th>3</th>\n",
              "      <td>75001</td>\n",
              "      <td>1/4/2018</td>\n",
              "      <td>1320</td>\n",
              "      <td>3</td>\n",
              "      <td>weekday</td>\n",
              "      <td>104</td>\n",
              "      <td>104</td>\n",
              "      <td>2</td>\n",
              "      <td>2</td>\n",
              "      <td>9</td>\n",
              "      <td>8</td>\n",
              "      <td>25</td>\n",
              "      <td>21</td>\n",
              "    </tr>\n",
              "    <tr>\n",
              "      <th>4</th>\n",
              "      <td>75001</td>\n",
              "      <td>1/5/2018</td>\n",
              "      <td>1440</td>\n",
              "      <td>4</td>\n",
              "      <td>weekday</td>\n",
              "      <td>114</td>\n",
              "      <td>117</td>\n",
              "      <td>3</td>\n",
              "      <td>3</td>\n",
              "      <td>6</td>\n",
              "      <td>6</td>\n",
              "      <td>18</td>\n",
              "      <td>20</td>\n",
              "    </tr>\n",
              "    <tr>\n",
              "      <th>5</th>\n",
              "      <td>75001</td>\n",
              "      <td>1/6/2018</td>\n",
              "      <td>1437</td>\n",
              "      <td>5</td>\n",
              "      <td>weekend</td>\n",
              "      <td>187</td>\n",
              "      <td>185</td>\n",
              "      <td>6</td>\n",
              "      <td>6</td>\n",
              "      <td>7</td>\n",
              "      <td>8</td>\n",
              "      <td>38</td>\n",
              "      <td>35</td>\n",
              "    </tr>\n",
              "    <tr>\n",
              "      <th>6</th>\n",
              "      <td>75001</td>\n",
              "      <td>1/7/2018</td>\n",
              "      <td>1440</td>\n",
              "      <td>6</td>\n",
              "      <td>weekend</td>\n",
              "      <td>180</td>\n",
              "      <td>180</td>\n",
              "      <td>2</td>\n",
              "      <td>2</td>\n",
              "      <td>10</td>\n",
              "      <td>9</td>\n",
              "      <td>34</td>\n",
              "      <td>34</td>\n",
              "    </tr>\n",
              "    <tr>\n",
              "      <th>7</th>\n",
              "      <td>75001</td>\n",
              "      <td>1/8/2018</td>\n",
              "      <td>1438</td>\n",
              "      <td>0</td>\n",
              "      <td>weekday</td>\n",
              "      <td>84</td>\n",
              "      <td>83</td>\n",
              "      <td>3</td>\n",
              "      <td>3</td>\n",
              "      <td>10</td>\n",
              "      <td>10</td>\n",
              "      <td>14</td>\n",
              "      <td>15</td>\n",
              "    </tr>\n",
              "    <tr>\n",
              "      <th>8</th>\n",
              "      <td>75001</td>\n",
              "      <td>1/9/2018</td>\n",
              "      <td>1439</td>\n",
              "      <td>1</td>\n",
              "      <td>weekday</td>\n",
              "      <td>81</td>\n",
              "      <td>84</td>\n",
              "      <td>1</td>\n",
              "      <td>1</td>\n",
              "      <td>4</td>\n",
              "      <td>4</td>\n",
              "      <td>15</td>\n",
              "      <td>15</td>\n",
              "    </tr>\n",
              "    <tr>\n",
              "      <th>9</th>\n",
              "      <td>75001</td>\n",
              "      <td>1/10/2018</td>\n",
              "      <td>1440</td>\n",
              "      <td>2</td>\n",
              "      <td>weekday</td>\n",
              "      <td>88</td>\n",
              "      <td>85</td>\n",
              "      <td>5</td>\n",
              "      <td>5</td>\n",
              "      <td>11</td>\n",
              "      <td>11</td>\n",
              "      <td>23</td>\n",
              "      <td>22</td>\n",
              "    </tr>\n",
              "  </tbody>\n",
              "</table>\n",
              "</div>"
            ],
            "text/plain": [
              "   Postal code       date  ...  Slots_freed_sum  Slots_taken_sum\n",
              "0        75001   1/1/2018  ...               22               20\n",
              "1        75001   1/2/2018  ...               23               22\n",
              "2        75001   1/3/2018  ...               27               27\n",
              "3        75001   1/4/2018  ...               25               21\n",
              "4        75001   1/5/2018  ...               18               20\n",
              "5        75001   1/6/2018  ...               38               35\n",
              "6        75001   1/7/2018  ...               34               34\n",
              "7        75001   1/8/2018  ...               14               15\n",
              "8        75001   1/9/2018  ...               15               15\n",
              "9        75001  1/10/2018  ...               23               22\n",
              "\n",
              "[10 rows x 13 columns]"
            ]
          },
          "metadata": {
            "tags": []
          },
          "execution_count": 5
        }
      ]
    },
    {
      "cell_type": "code",
      "metadata": {
        "colab": {
          "base_uri": "https://localhost:8080/"
        },
        "id": "lWv5XHdC2zja",
        "outputId": "50e034eb-96ff-4b1d-9136-08cd841c2979"
      },
      "source": [
        "df.duplicated().sum()"
      ],
      "execution_count": 6,
      "outputs": [
        {
          "output_type": "execute_result",
          "data": {
            "text/plain": [
              "0"
            ]
          },
          "metadata": {
            "tags": []
          },
          "execution_count": 6
        }
      ]
    },
    {
      "cell_type": "code",
      "metadata": {
        "colab": {
          "base_uri": "https://localhost:8080/",
          "height": 284
        },
        "id": "bsYqTv9jDFYV",
        "outputId": "77220b0c-b737-4809-eab1-4e162699a7df"
      },
      "source": [
        "sns.boxplot(data=df[['BlueCars_taken_sum','BlueCars_returned_sum']])"
      ],
      "execution_count": 8,
      "outputs": [
        {
          "output_type": "execute_result",
          "data": {
            "text/plain": [
              "<matplotlib.axes._subplots.AxesSubplot at 0x7fbeb4c12e90>"
            ]
          },
          "metadata": {
            "tags": []
          },
          "execution_count": 8
        },
        {
          "output_type": "display_data",
          "data": {
            "image/png": "[encoded data removed]",
            "text/plain": [
              "<Figure size 432x288 with 1 Axes>"
            ]
          },
          "metadata": {
            "tags": [],
            "needs_background": "light"
          }
        }
      ]
    },
    {
      "cell_type": "code",
      "metadata": {
        "colab": {
          "base_uri": "https://localhost:8080/",
          "height": 284
        },
        "id": "QJnNX9Z_DNGE",
        "outputId": "44a9122f-d1ef-4bd4-b628-6f5a8c0b1187"
      },
      "source": [
        "\n",
        "# detecting outliers for utilibs taken and returned\n",
        "\n",
        "sns.boxplot(data=df[['Utilib_taken_sum','Utilib_returned_sum']])"
      ],
      "execution_count": 10,
      "outputs": [
        {
          "output_type": "execute_result",
          "data": {
            "text/plain": [
              "<matplotlib.axes._subplots.AxesSubplot at 0x7fbeb01433d0>"
            ]
          },
          "metadata": {
            "tags": []
          },
          "execution_count": 10
        },
        {
          "output_type": "display_data",
          "data": {
            "image/png": "[encoded data removed]",
            "text/plain": [
              "<Figure size 432x288 with 1 Axes>"
            ]
          },
          "metadata": {
            "tags": [],
            "needs_background": "light"
          }
        }
      ]
    },
    {
      "cell_type": "code",
      "metadata": {
        "colab": {
          "base_uri": "https://localhost:8080/"
        },
        "id": "S9TBEtD9DflB",
        "outputId": "5613c204-d820-4e9f-dd80-f2cb9d47c0fe"
      },
      "source": [
        "Q1 = df.quantile(0.25)\n",
        "Q3 = df.quantile(0.75)\n",
        "\n",
        "IQR = Q3 - Q1\n",
        "IQR"
      ],
      "execution_count": 12,
      "outputs": [
        {
          "output_type": "execute_result",
          "data": {
            "text/plain": [
              "Postal code               2070.0\n",
              "n_daily_data_points          1.0\n",
              "dayOfWeek                    4.0\n",
              "BlueCars_taken_sum         115.0\n",
              "BlueCars_returned_sum      115.0\n",
              "Utilib_taken_sum             4.0\n",
              "Utilib_returned_sum          4.0\n",
              "Utilib_14_taken_sum          9.0\n",
              "Utilib_14_returned_sum       9.0\n",
              "Slots_freed_sum              5.0\n",
              "Slots_taken_sum              5.0\n",
              "dtype: float64"
            ]
          },
          "metadata": {
            "tags": []
          },
          "execution_count": 12
        }
      ]
    },
    {
      "cell_type": "code",
      "metadata": {
        "colab": {
          "base_uri": "https://localhost:8080/",
          "height": 241
        },
        "id": "UeGCNQMnCkvD",
        "outputId": "3d88de2c-a088-44c6-ea28-495871892f30"
      },
      "source": [
        "df1 = df[~((df < (Q1 - 1.5 * IQR)) |(df > (Q3 + 1.5 * IQR))).any(axis=1)]\n",
        "df1.head()"
      ],
      "execution_count": 14,
      "outputs": [
        {
          "output_type": "execute_result",
          "data": {
            "text/html": [
              "<div>\n",
              "<style scoped>\n",
              "    .dataframe tbody tr th:only-of-type {\n",
              "        vertical-align: middle;\n",
              "    }\n",
              "\n",
              "    .dataframe tbody tr th {\n",
              "        vertical-align: top;\n",
              "    }\n",
              "\n",
              "    .dataframe thead th {\n",
              "        text-align: right;\n",
              "    }\n",
              "</style>\n",
              "<table border=\"1\" class=\"dataframe\">\n",
              "  <thead>\n",
              "    <tr style=\"text-align: right;\">\n",
              "      <th></th>\n",
              "      <th>Postal code</th>\n",
              "      <th>date</th>\n",
              "      <th>n_daily_data_points</th>\n",
              "      <th>dayOfWeek</th>\n",
              "      <th>day_type</th>\n",
              "      <th>BlueCars_taken_sum</th>\n",
              "      <th>BlueCars_returned_sum</th>\n",
              "      <th>Utilib_taken_sum</th>\n",
              "      <th>Utilib_returned_sum</th>\n",
              "      <th>Utilib_14_taken_sum</th>\n",
              "      <th>Utilib_14_returned_sum</th>\n",
              "      <th>Slots_freed_sum</th>\n",
              "      <th>Slots_taken_sum</th>\n",
              "    </tr>\n",
              "  </thead>\n",
              "  <tbody>\n",
              "    <tr>\n",
              "      <th>3899</th>\n",
              "      <td>91330</td>\n",
              "      <td>1/1/2018</td>\n",
              "      <td>1440</td>\n",
              "      <td>0</td>\n",
              "      <td>weekday</td>\n",
              "      <td>19</td>\n",
              "      <td>9</td>\n",
              "      <td>0</td>\n",
              "      <td>0</td>\n",
              "      <td>0</td>\n",
              "      <td>0</td>\n",
              "      <td>4</td>\n",
              "      <td>2</td>\n",
              "    </tr>\n",
              "    <tr>\n",
              "      <th>3900</th>\n",
              "      <td>91330</td>\n",
              "      <td>1/2/2018</td>\n",
              "      <td>1438</td>\n",
              "      <td>1</td>\n",
              "      <td>weekday</td>\n",
              "      <td>10</td>\n",
              "      <td>10</td>\n",
              "      <td>0</td>\n",
              "      <td>0</td>\n",
              "      <td>0</td>\n",
              "      <td>0</td>\n",
              "      <td>0</td>\n",
              "      <td>0</td>\n",
              "    </tr>\n",
              "    <tr>\n",
              "      <th>3901</th>\n",
              "      <td>91330</td>\n",
              "      <td>1/3/2018</td>\n",
              "      <td>1439</td>\n",
              "      <td>2</td>\n",
              "      <td>weekday</td>\n",
              "      <td>11</td>\n",
              "      <td>13</td>\n",
              "      <td>0</td>\n",
              "      <td>0</td>\n",
              "      <td>0</td>\n",
              "      <td>0</td>\n",
              "      <td>1</td>\n",
              "      <td>1</td>\n",
              "    </tr>\n",
              "    <tr>\n",
              "      <th>3903</th>\n",
              "      <td>91330</td>\n",
              "      <td>1/5/2018</td>\n",
              "      <td>1440</td>\n",
              "      <td>4</td>\n",
              "      <td>weekday</td>\n",
              "      <td>10</td>\n",
              "      <td>6</td>\n",
              "      <td>0</td>\n",
              "      <td>0</td>\n",
              "      <td>0</td>\n",
              "      <td>0</td>\n",
              "      <td>1</td>\n",
              "      <td>1</td>\n",
              "    </tr>\n",
              "    <tr>\n",
              "      <th>3905</th>\n",
              "      <td>91330</td>\n",
              "      <td>1/7/2018</td>\n",
              "      <td>1440</td>\n",
              "      <td>6</td>\n",
              "      <td>weekend</td>\n",
              "      <td>28</td>\n",
              "      <td>17</td>\n",
              "      <td>0</td>\n",
              "      <td>0</td>\n",
              "      <td>1</td>\n",
              "      <td>1</td>\n",
              "      <td>4</td>\n",
              "      <td>2</td>\n",
              "    </tr>\n",
              "  </tbody>\n",
              "</table>\n",
              "</div>"
            ],
            "text/plain": [
              "      Postal code      date  ...  Slots_freed_sum  Slots_taken_sum\n",
              "3899        91330  1/1/2018  ...                4                2\n",
              "3900        91330  1/2/2018  ...                0                0\n",
              "3901        91330  1/3/2018  ...                1                1\n",
              "3903        91330  1/5/2018  ...                1                1\n",
              "3905        91330  1/7/2018  ...                4                2\n",
              "\n",
              "[5 rows x 13 columns]"
            ]
          },
          "metadata": {
            "tags": []
          },
          "execution_count": 14
        }
      ]
    },
    {
      "cell_type": "markdown",
      "metadata": {
        "id": "T5maHT--Dvd_"
      },
      "source": [
        "##univariate analysis"
      ]
    },
    {
      "cell_type": "code",
      "metadata": {
        "id": "nBYfu26726fE"
      },
      "source": [
        "#histogr\n",
        "plt.figure(figsize=(10,9))\n",
        "plt.hist(df['n_daily_data_points'], bins=5, histtype='bar', orientation='horizontal', color='lightgreen')\n",
        "plt.title('daily data points', fontweight='bold', style='italic')\n",
        "plt.xlabel('BlueCars_taken_sum')\n",
        "plt.ylabel('Postal code')\n",
        "plt.show()"
      ],
      "execution_count": null,
      "outputs": []
    },
    {
      "cell_type": "code",
      "metadata": {
        "id": "-2lQ8eOTAMH5"
      },
      "source": [
        "\n",
        "num_bins = 4\n",
        "\n",
        "plt.hist(df['BlueCars_taken_sum'], num_bins, histtype=\"bar\", rwidth=2, color='green')\n",
        "\n",
        "plt.xlabel(\"Blue Cars taken\")\n",
        "\n",
        "\n",
        "plt.ylabel(\"No. of cars\")\n",
        "\n",
        "plt.title(\"Distribution of Blue Cars taken\")"
      ],
      "execution_count": null,
      "outputs": []
    },
    {
      "cell_type": "code",
      "metadata": {
        "id": "_CAQBld6BtxA"
      },
      "source": [
        "\n",
        "num_bins = 4\n",
        "\n",
        "plt.hist(df['BlueCars_returned_sum'], num_bins, histtype=\"bar\", rwidth=2, color='yellow')\n",
        "\n",
        "plt.xlabel(\"Blue Cars returned\")\n",
        "plt.ylabel(\"No. of cars\")\n",
        "\n",
        "# Giving a title to our Bar chart\n",
        "plt.title(\"Distribution of Blue Cars returned\")"
      ],
      "execution_count": null,
      "outputs": []
    },
    {
      "cell_type": "code",
      "metadata": {
        "id": "PaN2KZKsAncU"
      },
      "source": [
        "\n",
        "num_bins = 4\n",
        "\n",
        "plt.hist(df['Utilib_taken_sum'], num_bins, histtype=\"bar\", rwidth=2, color='gold')\n",
        "# Labelling our x axis\n",
        "plt.xlabel(\"Utilib_taken_sum\")\n",
        "\n",
        "# Labelling our y axis\n",
        "plt.ylabel(\"No. of cars\")\n",
        "\n",
        "# Giving a title to our Bar chart\n",
        "plt.title(\"Distribution of Utilib_taken_sum\")"
      ],
      "execution_count": null,
      "outputs": []
    },
    {
      "cell_type": "code",
      "metadata": {
        "id": "eQmK3-4kCD-j"
      },
      "source": [
        "num_bins = 4\n",
        "\n",
        "plt.hist(df['Utilib_returned_sum'], num_bins, histtype=\"bar\", rwidth=2, color='purple')\n",
        "# Labelling our x axis\n",
        "plt.xlabel(\"Utilib Cars returned\")\n",
        "\n",
        "# Labelling our y axis\n",
        "plt.ylabel(\"No. of cars\")\n",
        "\n",
        "# Giving a title to our Bar chart\n",
        "plt.title(\"Distribution of Utilib Cars returned\")"
      ],
      "execution_count": null,
      "outputs": []
    },
    {
      "cell_type": "code",
      "metadata": {
        "id": "XnEF1nV2BW8R"
      },
      "source": [
        "\n",
        "num_bins = 4\n",
        "\n",
        "plt.hist(df['Utilib_14_taken_sum'], num_bins, histtype=\"bar\", rwidth=2, color='blue')\n",
        "\n",
        "plt.xlabel(\"Utilib_14 Cars taken\")\n",
        "\n",
        "# Labelling y axis\n",
        "plt.ylabel(\"No. of cars\")\n",
        "\n",
        "# title\n",
        "plt.title(\"Distribution of Utilib_14 Cars taken\")"
      ],
      "execution_count": null,
      "outputs": []
    },
    {
      "cell_type": "code",
      "metadata": {
        "id": "CqHTWqZZCNEh"
      },
      "source": [
        "\n",
        "num_bins = 4\n",
        "\n",
        "plt.hist(df['Utilib_14_returned_sum'], num_bins, histtype=\"bar\", rwidth=1, color='maroon')\n",
        "# Labelling our x axis\n",
        "plt.xlabel(\"Utilib_14 Cars returned\")\n",
        "\n",
        "# Labelling our y axis\n",
        "plt.ylabel(\"No. of cars\")\n",
        "\n",
        "# Giving a title to our Bar chart\n",
        "plt.title(\"Distribution of Utilib_14 Cars returned\")"
      ],
      "execution_count": null,
      "outputs": []
    },
    {
      "cell_type": "code",
      "metadata": {
        "id": "G2WTTEBD6DM_"
      },
      "source": [
        "df.head(1)"
      ],
      "execution_count": null,
      "outputs": []
    },
    {
      "cell_type": "code",
      "metadata": {
        "id": "8dzVHZxV_i3r"
      },
      "source": [
        "#finding mean \n",
        "df[{'BlueCars_taken_sum', 'BlueCars_returned_sum', 'Utilib_taken_sum', 'Utilib_returned_sum', 'Utilib_14_taken_sum', 'Utilib_14_returned_sum', 'Slots_freed_sum', 'Slots_taken_sum'}].mean()"
      ],
      "execution_count": null,
      "outputs": []
    },
    {
      "cell_type": "code",
      "metadata": {
        "id": "vUqSBSfF7rgq"
      },
      "source": [
        "plt.figure(figsize=(10,10))\n",
        "sns.heatmap(df.corr(),annot=True)\n",
        "plt.show()"
      ],
      "execution_count": null,
      "outputs": []
    },
    {
      "cell_type": "code",
      "metadata": {
        "id": "N7K_oGvT7_gc"
      },
      "source": [
        "plt.figure(figsize=(15,10))\n",
        "df.groupby('BlueCars_taken_sum')['Utilib_taken_sum'].sum().sort_values(ascending=False).plot(kind='bar')\n",
        "plt.title('blue cars vs utilib',size=15)\n",
        "plt.ylabel('blue cars')\n",
        "plt.show()"
      ],
      "execution_count": null,
      "outputs": []
    },
    {
      "cell_type": "markdown",
      "metadata": {
        "id": "bbLkdes4T-rj"
      },
      "source": [
        "##bivariate analysis"
      ]
    },
    {
      "cell_type": "code",
      "metadata": {
        "colab": {
          "base_uri": "https://localhost:8080/"
        },
        "id": "pInCaFCf95Eg",
        "outputId": "3893f3b8-58cf-4c79-bb95-f70ff45fbf5e"
      },
      "source": [
        "#bivariate analysis\n",
        "# Loading the dataset\n",
        "\n",
        "# Calculating the pearson coefficient\n",
        "pearson_coeff = df[\"BlueCars_taken_sum\"].corr(df[\"Utilib_taken_sum\"], method=\"pearson\") \n",
        "print(pearson_coeff)\n",
        "\n",
        "# Checking whether you have to define the pearson\n",
        "coeff = df[\"BlueCars_taken_sum\"].corr(df[\"Utilib_taken_sum\"]) \n",
        "print(coeff)"
      ],
      "execution_count": 30,
      "outputs": [
        {
          "output_type": "stream",
          "text": [
            "0.8938325700709975\n",
            "0.8938325700709975\n"
          ],
          "name": "stdout"
        }
      ]
    },
    {
      "cell_type": "code",
      "metadata": {
        "id": "GLaPgE89-2RW"
      },
      "source": [
        "df.head(1)"
      ],
      "execution_count": null,
      "outputs": []
    },
    {
      "cell_type": "code",
      "metadata": {
        "id": "N-VR3zBF-q6J"
      },
      "source": [
        "df[['BlueCars_taken_sum', 'Utilib_taken_sum', 'Utilib_14_taken_sum']].plot(kind='bar', figsize=(8, 6), stacked=True)\n",
        "\n",
        "# Rotating our x axis ticks\n",
        "plt.xticks(rotation = 45)\n",
        "\n",
        "# Giving our chart a title\n",
        "plt.title(\"number of blue cars, utilib and utilib 14 cars taken\", fontsize=14, y=1.015)\n",
        "\n",
        "# Labeling our y axis\n",
        "plt.ylabel(\"n_daily_data_points\", fontsize=14, labelpad=15)\n",
        "\n",
        "# Labeling our x axis\n",
        "plt.xlabel(\"dayOfWeek\", fontsize=14, labelpad=15)\n",
        "\n",
        "# Displaying our chart\n",
        "plt.show()"
      ],
      "execution_count": null,
      "outputs": []
    },
    {
      "cell_type": "code",
      "metadata": {
        "colab": {
          "base_uri": "https://localhost:8080/",
          "height": 443
        },
        "id": "iQAsfV_eEM6b",
        "outputId": "5325e399-89d7-4406-858d-82f460385027"
      },
      "source": [
        "\n",
        "fig, (ax1,ax2,ax3) = plt.subplots(1,3, figsize=(10, 7))\n",
        "fig.suptitle('')\n",
        "sns.scatterplot(x= df.BlueCars_taken_sum , y= df.BlueCars_returned_sum, ax=ax1)\n",
        "sns.scatterplot(x= df.Utilib_taken_sum, y= df.Utilib_returned_sum, ax=ax2)\n",
        "sns.scatterplot(x=df.Utilib_14_taken_sum , y= df.Utilib_14_returned_sum, ax=ax3)\n",
        "\n",
        "plt.show()"
      ],
      "execution_count": 15,
      "outputs": [
        {
          "output_type": "display_data",
          "data": {
            "image/png": "[encoded data removed]",
            "text/plain": [
              "<Figure size 720x504 with 3 Axes>"
            ]
          },
          "metadata": {
            "tags": [],
            "needs_background": "light"
          }
        }
      ]
    },
    {
      "cell_type": "code",
      "metadata": {
        "colab": {
          "base_uri": "https://localhost:8080/"
        },
        "id": "5d4g9VBuFMdL",
        "outputId": "1bd841ad-bb50-49fe-c89b-ab4e1e2ab7ae"
      },
      "source": [
        "# Finding a correlation between the dataset\n",
        "pearson_coeff = df[\"BlueCars_taken_sum\"].corr(df[\"BlueCars_returned_sum\"], method=\"pearson\") \n",
        "print('BlueCars', pearson_coeff)\n",
        "pearson_coeff = df['Utilib_taken_sum'].corr(df[\"Utilib_returned_sum\"], method=\"pearson\") \n",
        "print('Utilib_Corr', pearson_coeff)\n",
        "pearson_coeff = df[\"Utilib_14_taken_sum\"].corr(df[\"Utilib_14_returned_sum\"], method=\"pearson\") \n",
        "print('Utilib_14_Corr', pearson_coeff)"
      ],
      "execution_count": 16,
      "outputs": [
        {
          "output_type": "stream",
          "text": [
            "BlueCars 0.9986597051672199\n",
            "Utilib_Corr 0.9819819805363551\n",
            "Utilib_14_Corr 0.9920620707048171\n"
          ],
          "name": "stdout"
        }
      ]
    },
    {
      "cell_type": "markdown",
      "metadata": {
        "id": "_ysjNJE0HZgx"
      },
      "source": [
        "#hypothesis testing"
      ]
    },
    {
      "cell_type": "markdown",
      "metadata": {
        "id": "BgrTWrMzHeUo"
      },
      "source": [
        "total number of cars taken and returned"
      ]
    },
    {
      "cell_type": "code",
      "metadata": {
        "id": "vjBQfGNXHtTW"
      },
      "source": [
        "df['total_vehicles_taken'] = df['BlueCars_taken_sum'] + df['Utilib_taken_sum'] + df['Utilib_14_taken_sum']\n",
        "\n",
        "df['total_vehicles_returned'] = df['BlueCars_returned_sum'] + df['Utilib_returned_sum'] + df['Utilib_14_returned_sum']\n"
      ],
      "execution_count": 17,
      "outputs": []
    },
    {
      "cell_type": "markdown",
      "metadata": {
        "id": "Sl4VLb9RIDMM"
      },
      "source": [
        "sum utilib and utilib 14"
      ]
    },
    {
      "cell_type": "code",
      "metadata": {
        "id": "Lph5CuDULFtA"
      },
      "source": [
        "df['total_Utilib_vehicles_taken'] =df['Utilib_taken_sum'] + df['Utilib_14_taken_sum']"
      ],
      "execution_count": 18,
      "outputs": []
    },
    {
      "cell_type": "code",
      "metadata": {
        "colab": {
          "base_uri": "https://localhost:8080/"
        },
        "id": "jOpwwARaLSNF",
        "outputId": "710be5c3-42c6-4963-9b22-b0695d111dba"
      },
      "source": [
        "# randomly selecting a day between 0 and 4\n",
        "random_number = np.random.randint(0, 4)\n",
        "random_number"
      ],
      "execution_count": 19,
      "outputs": [
        {
          "output_type": "execute_result",
          "data": {
            "text/plain": [
              "3"
            ]
          },
          "metadata": {
            "tags": []
          },
          "execution_count": 19
        }
      ]
    },
    {
      "cell_type": "code",
      "metadata": {
        "colab": {
          "base_uri": "https://localhost:8080/"
        },
        "id": "gn_gqWtCLe-K",
        "outputId": "98f13040-239f-4176-eef3-df5aed8006ac"
      },
      "source": [
        "sampled_df = df[df['dayOfWeek']== random_number]\n",
        "\n",
        "sampled_df.info()"
      ],
      "execution_count": 20,
      "outputs": [
        {
          "output_type": "stream",
          "text": [
            "<class 'pandas.core.frame.DataFrame'>\n",
            "Int64Index: 2268 entries, 3 to 16079\n",
            "Data columns (total 16 columns):\n",
            " #   Column                       Non-Null Count  Dtype \n",
            "---  ------                       --------------  ----- \n",
            " 0   Postal code                  2268 non-null   int64 \n",
            " 1   date                         2268 non-null   object\n",
            " 2   n_daily_data_points          2268 non-null   int64 \n",
            " 3   dayOfWeek                    2268 non-null   int64 \n",
            " 4   day_type                     2268 non-null   object\n",
            " 5   BlueCars_taken_sum           2268 non-null   int64 \n",
            " 6   BlueCars_returned_sum        2268 non-null   int64 \n",
            " 7   Utilib_taken_sum             2268 non-null   int64 \n",
            " 8   Utilib_returned_sum          2268 non-null   int64 \n",
            " 9   Utilib_14_taken_sum          2268 non-null   int64 \n",
            " 10  Utilib_14_returned_sum       2268 non-null   int64 \n",
            " 11  Slots_freed_sum              2268 non-null   int64 \n",
            " 12  Slots_taken_sum              2268 non-null   int64 \n",
            " 13  total_vehicles_taken         2268 non-null   int64 \n",
            " 14  total_vehicles_returned      2268 non-null   int64 \n",
            " 15  total_Utilib_vehicles_taken  2268 non-null   int64 \n",
            "dtypes: int64(14), object(2)\n",
            "memory usage: 301.2+ KB\n"
          ],
          "name": "stdout"
        }
      ]
    },
    {
      "cell_type": "markdown",
      "metadata": {
        "id": "KF0jZR6WLpsI"
      },
      "source": [
        "###hypothesis 1:\n",
        "on any weekday, the average number of bluecars, utilib and utilib_14 cars taken is higher than the average number returned\n",
        "choosing a confidence level at 95% and therfore an alpha value of 0.05\n",
        "H0: the average vehicles taken is less than or equal to average vehicles returned\n",
        "H1: the average vehicles taken is gretaer than average vehicles returned"
      ]
    },
    {
      "cell_type": "code",
      "metadata": {
        "colab": {
          "base_uri": "https://localhost:8080/"
        },
        "id": "CeqIXz5DM_lo",
        "outputId": "dc410857-6b28-4209-9e2f-482c087aab01"
      },
      "source": [
        "#zScore\n",
        "total_pop_mean = df['total_vehicles_taken'].mean()\n",
        "\n",
        "total_pop_std_dev = df['total_vehicles_taken'].std()\n",
        "\n",
        "sampled_pop_mean = sampled_df['total_vehicles_returned'].mean()\n",
        "\n",
        "total_sampled_pop = sampled_df['total_vehicles_returned'].count()\n",
        "\n",
        "## Compute the z score\n",
        "zscore_hypothesis_1 = (sampled_pop_mean - total_pop_mean) / total_pop_std_dev\n",
        "\n",
        "zscore_hypothesis_1"
      ],
      "execution_count": 21,
      "outputs": [
        {
          "output_type": "execute_result",
          "data": {
            "text/plain": [
              "-0.05397555479832159"
            ]
          },
          "metadata": {
            "tags": []
          },
          "execution_count": 21
        }
      ]
    },
    {
      "cell_type": "code",
      "metadata": {
        "colab": {
          "base_uri": "https://localhost:8080/"
        },
        "id": "FbSBMzrjNjuf",
        "outputId": "fc702802-4b1e-45df-e193-44b39ad43b14"
      },
      "source": [
        "prob_hypothesis_1 = 1 - stats.norm.cdf(zscore_hypothesis_1)\n",
        "prob_hypothesis_1"
      ],
      "execution_count": 22,
      "outputs": [
        {
          "output_type": "execute_result",
          "data": {
            "text/plain": [
              "0.5215226798558439"
            ]
          },
          "metadata": {
            "tags": []
          },
          "execution_count": 22
        }
      ]
    },
    {
      "cell_type": "markdown",
      "metadata": {
        "id": "z8u9LNSxNmcR"
      },
      "source": [
        "pvalue is at 0.5215 which is greater thatn 0.05 thus we accept the null hypothesis. that is, the average number of vehicles is less than or equal to average vehicles returned"
      ]
    },
    {
      "cell_type": "markdown",
      "metadata": {
        "id": "riXa17VMOB5z"
      },
      "source": [
        "###hypothesis 2\n",
        "on any weeday, the number of bluecars taken is more than the total nmber of utilib and utilib_14 cars taken.\n",
        "confidence level is at 0.95 and alpha value at 0.05"
      ]
    },
    {
      "cell_type": "code",
      "metadata": {
        "id": "C60VOSiROgcE"
      },
      "source": [
        "# Average number of all BluCars taken during the period of our review\n",
        "avg_BlueCars = df['BlueCars_taken_sum'].mean()\n",
        "avg_Utilib_vehicles=df['total_Utilib_vehicles_taken'].mean()\n",
        "# Average of a sample of Utilib and Utilib_14 cars taken on a random day\n",
        "sampled_Bluecars_mean=sampled_df['BlueCars_taken_sum'].mean()\n",
        "sampled_Utilib_vehicles_mean = sampled_df['total_Utilib_vehicles_taken'].mean()\n",
        "\n",
        "# Standard deviation of all BluCars taken during the period of our review\n",
        "std_dev_BlueCars = df['BlueCars_taken_sum'].std()\n",
        "std_dev_Utilib_vehicles = df['total_Utilib_vehicles_taken'].std()"
      ],
      "execution_count": 23,
      "outputs": []
    },
    {
      "cell_type": "code",
      "metadata": {
        "colab": {
          "base_uri": "https://localhost:8080/"
        },
        "id": "BodfOR73O88z",
        "outputId": "536507f1-61f7-4a78-ac38-d192ef703097"
      },
      "source": [
        "\n",
        "## Compute the z score\n",
        "zstat = (sampled_Utilib_vehicles_mean-avg_BlueCars)/std_dev_BlueCars\n",
        "zstat"
      ],
      "execution_count": 24,
      "outputs": [
        {
          "output_type": "execute_result",
          "data": {
            "text/plain": [
              "-0.6180237330304179"
            ]
          },
          "metadata": {
            "tags": []
          },
          "execution_count": 24
        }
      ]
    },
    {
      "cell_type": "code",
      "metadata": {
        "colab": {
          "base_uri": "https://localhost:8080/"
        },
        "id": "PixoRYfjPGHB",
        "outputId": "aaf53f53-d55a-4a69-fea8-6da7397fe8bd"
      },
      "source": [
        "# P value\n",
        "\n",
        "prob_hypothesis_2 = 1 - stats.norm.cdf(zstat)\n",
        "prob_hypothesis_2"
      ],
      "execution_count": 25,
      "outputs": [
        {
          "output_type": "execute_result",
          "data": {
            "text/plain": [
              "0.7317201528454087"
            ]
          },
          "metadata": {
            "tags": []
          },
          "execution_count": 25
        }
      ]
    },
    {
      "cell_type": "markdown",
      "metadata": {
        "id": "l5mSfLS_PJ_l"
      },
      "source": [
        "0.7317 is grretaer than 0.05, thus the null hypothesis is accepted. that is, the number of bluecars taken is less than or eqyal to the total utilib and utilib_14 cars taken"
      ]
    },
    {
      "cell_type": "markdown",
      "metadata": {
        "id": "oQ94F1pmPoTW"
      },
      "source": [
        "###hypothesis 3\n",
        "number of vehicles taken in postal code 75015 is equal to the number of cars taken in 75017\n",
        "for this test, confidence level will be at 0.95, alpha value ay 0.05"
      ]
    },
    {
      "cell_type": "code",
      "metadata": {
        "id": "fJBQotZiP-kX"
      },
      "source": [
        "# Average number of vehicles taken in postal code 75015 and 75017\n",
        "vehicles_75015 =df[df['Postal code']== 75015]\n",
        "vehicles_75015_avg = vehicles_75015['total_vehicles_taken'].mean()\n",
        "\n",
        "vehicles_75017 =df[df['Postal code']== 75017]\n",
        "vehicles_75017_avg = vehicles_75017['total_vehicles_taken'].mean()\n",
        "\n",
        "\n",
        "# Average sample of number of vehicles taken in postal code 75017\n",
        "sample_vehicles_75015 = sampled_df[sampled_df['Postal code']== 75015]\n",
        "sample_vehicles_75015_avg = sample_vehicles_75015['total_vehicles_taken'].mean()\n",
        "\n",
        "sample_vehicles_75017 = sampled_df[sampled_df['Postal code']== 75017]\n",
        "sample_vehicles_75017_avg = sample_vehicles_75017['total_vehicles_taken'].mean()\n",
        "\n",
        "# Standard deviation of vehicles taken in postal code 75015\n",
        "vehicles_75015_std_dev= vehicles_75015['total_vehicles_taken'].std() \n",
        "vehicles_75017_std_dev = vehicles_75017['total_vehicles_taken'].std()"
      ],
      "execution_count": 27,
      "outputs": []
    },
    {
      "cell_type": "code",
      "metadata": {
        "colab": {
          "base_uri": "https://localhost:8080/"
        },
        "id": "fvp2u7s5QqfZ",
        "outputId": "1e9e635d-d4bb-4f5d-8e71-e73f2815ecb1"
      },
      "source": [
        "#z score\n",
        "zstat = (sample_vehicles_75017_avg-vehicles_75015_avg)/vehicles_75015_std_dev\n",
        "zstat"
      ],
      "execution_count": 28,
      "outputs": [
        {
          "output_type": "execute_result",
          "data": {
            "text/plain": [
              "-1.051098226687255"
            ]
          },
          "metadata": {
            "tags": []
          },
          "execution_count": 28
        }
      ]
    },
    {
      "cell_type": "code",
      "metadata": {
        "colab": {
          "base_uri": "https://localhost:8080/"
        },
        "id": "tHK5XwYFQ1c5",
        "outputId": "f90ac03a-e120-45c9-8690-9b91ea7ef027"
      },
      "source": [
        "# P value\n",
        "\n",
        "prob_hypothesis_3 = 1 - stats.norm.cdf(zstat)\n",
        "prob_hypothesis_3"
      ],
      "execution_count": 29,
      "outputs": [
        {
          "output_type": "execute_result",
          "data": {
            "text/plain": [
              "0.853393260768986"
            ]
          },
          "metadata": {
            "tags": []
          },
          "execution_count": 29
        }
      ]
    },
    {
      "cell_type": "markdown",
      "metadata": {
        "id": "ZoZnvmuxQ5RL"
      },
      "source": [
        "a p value of 0.85 is gretaer than the alpha value at 0.05. thus we accepte the null hypothesis taht the number of cars taken from 75015 is equal to the number of cars taken from 75017"
      ]
    }
  ]
}